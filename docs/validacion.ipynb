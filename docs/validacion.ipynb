{
 "cells": [
  {
   "cell_type": "code",
   "execution_count": 2,
   "id": "3de53942",
   "metadata": {},
   "outputs": [],
   "source": [
    "import pandas as pd\n",
    "import numpy as np\n",
    "import datetime\n",
    "import re"
   ]
  },
  {
   "cell_type": "code",
   "execution_count": 3,
   "id": "8b51701b",
   "metadata": {
    "scrolled": true
   },
   "outputs": [
    {
     "data": {
      "text/html": [
       "<div>\n",
       "<style scoped>\n",
       "    .dataframe tbody tr th:only-of-type {\n",
       "        vertical-align: middle;\n",
       "    }\n",
       "\n",
       "    .dataframe tbody tr th {\n",
       "        vertical-align: top;\n",
       "    }\n",
       "\n",
       "    .dataframe thead th {\n",
       "        text-align: right;\n",
       "    }\n",
       "</style>\n",
       "<table border=\"1\" class=\"dataframe\">\n",
       "  <thead>\n",
       "    <tr style=\"text-align: right;\">\n",
       "      <th></th>\n",
       "      <th>Nº  EXPEDIENTE</th>\n",
       "      <th>FECHA</th>\n",
       "      <th>HORA</th>\n",
       "      <th>CALLE</th>\n",
       "      <th>NÚMERO</th>\n",
       "      <th>DISTRITO</th>\n",
       "      <th>TIPO ACCIDENTE</th>\n",
       "      <th>ESTADO METEREOLÓGICO</th>\n",
       "      <th>TIPO VEHÍCULO</th>\n",
       "      <th>TIPO PERSONA</th>\n",
       "      <th>RANGO DE EDAD</th>\n",
       "      <th>SEXO</th>\n",
       "      <th>LESIVIDAD*</th>\n",
       "    </tr>\n",
       "  </thead>\n",
       "  <tbody>\n",
       "    <tr>\n",
       "      <th>0</th>\n",
       "      <td>2021S000047</td>\n",
       "      <td>01/01/2021</td>\n",
       "      <td>11:38</td>\n",
       "      <td>CALL. JOSE BERGAMIN / CALL. FLORENCIO CANO CRI...</td>\n",
       "      <td>-</td>\n",
       "      <td>MORATALAZ</td>\n",
       "      <td>Caída</td>\n",
       "      <td>Despejado</td>\n",
       "      <td>Bicicleta</td>\n",
       "      <td>Conductor</td>\n",
       "      <td>DE 45 A 49 AÑOS</td>\n",
       "      <td>Hombre</td>\n",
       "      <td>2.0</td>\n",
       "    </tr>\n",
       "    <tr>\n",
       "      <th>1</th>\n",
       "      <td>2021S000142</td>\n",
       "      <td>04/01/2021</td>\n",
       "      <td>11:30</td>\n",
       "      <td>WANDA METROPOLITANO PARQUE FAROLA 20</td>\n",
       "      <td>-</td>\n",
       "      <td>SAN BLAS-CANILLEJAS</td>\n",
       "      <td>Caída</td>\n",
       "      <td>Despejado</td>\n",
       "      <td>Bicicleta</td>\n",
       "      <td>Conductor</td>\n",
       "      <td>DE 21 A 24 AÑOS</td>\n",
       "      <td>Hombre</td>\n",
       "      <td>14.0</td>\n",
       "    </tr>\n",
       "    <tr>\n",
       "      <th>2</th>\n",
       "      <td>2021S000142</td>\n",
       "      <td>04/01/2021</td>\n",
       "      <td>11:30</td>\n",
       "      <td>WANDA METROPOLITANO PARQUE FAROLA 20</td>\n",
       "      <td>-</td>\n",
       "      <td>SAN BLAS-CANILLEJAS</td>\n",
       "      <td>Caída</td>\n",
       "      <td>Despejado</td>\n",
       "      <td>Bicicleta</td>\n",
       "      <td>Conductor</td>\n",
       "      <td>DE 15 A 17 AÑOS</td>\n",
       "      <td>Hombre</td>\n",
       "      <td>14.0</td>\n",
       "    </tr>\n",
       "    <tr>\n",
       "      <th>3</th>\n",
       "      <td>2021S000142</td>\n",
       "      <td>04/01/2021</td>\n",
       "      <td>11:30</td>\n",
       "      <td>WANDA METROPOLITANO PARQUE FAROLA 20</td>\n",
       "      <td>-</td>\n",
       "      <td>SAN BLAS-CANILLEJAS</td>\n",
       "      <td>Caída</td>\n",
       "      <td>Despejado</td>\n",
       "      <td>Bicicleta</td>\n",
       "      <td>Conductor</td>\n",
       "      <td>DE 18 A 20 AÑOS</td>\n",
       "      <td>Hombre</td>\n",
       "      <td>14.0</td>\n",
       "    </tr>\n",
       "    <tr>\n",
       "      <th>4</th>\n",
       "      <td>2021S000142</td>\n",
       "      <td>04/01/2021</td>\n",
       "      <td>11:30</td>\n",
       "      <td>WANDA METROPOLITANO PARQUE FAROLA 20</td>\n",
       "      <td>-</td>\n",
       "      <td>SAN BLAS-CANILLEJAS</td>\n",
       "      <td>Caída</td>\n",
       "      <td>Despejado</td>\n",
       "      <td>Bicicleta</td>\n",
       "      <td>Conductor</td>\n",
       "      <td>DE 50 A 54 AÑOS</td>\n",
       "      <td>Hombre</td>\n",
       "      <td>6.0</td>\n",
       "    </tr>\n",
       "    <tr>\n",
       "      <th>...</th>\n",
       "      <td>...</td>\n",
       "      <td>...</td>\n",
       "      <td>...</td>\n",
       "      <td>...</td>\n",
       "      <td>...</td>\n",
       "      <td>...</td>\n",
       "      <td>...</td>\n",
       "      <td>...</td>\n",
       "      <td>...</td>\n",
       "      <td>...</td>\n",
       "      <td>...</td>\n",
       "      <td>...</td>\n",
       "      <td>...</td>\n",
       "    </tr>\n",
       "    <tr>\n",
       "      <th>344</th>\n",
       "      <td>2021S009511</td>\n",
       "      <td>30/05/2021</td>\n",
       "      <td>15:10</td>\n",
       "      <td>CALL. PEDRO RICO / CALL. ARTURO DUPERIER</td>\n",
       "      <td>-</td>\n",
       "      <td>FUENCARRAL-EL PARDO</td>\n",
       "      <td>Caída</td>\n",
       "      <td>Despejado</td>\n",
       "      <td>Bicicleta</td>\n",
       "      <td>Conductor</td>\n",
       "      <td>DE 60 A 64 AÑOS</td>\n",
       "      <td>Hombre</td>\n",
       "      <td>2.0</td>\n",
       "    </tr>\n",
       "    <tr>\n",
       "      <th>345</th>\n",
       "      <td>2021S009423</td>\n",
       "      <td>30/05/2021</td>\n",
       "      <td>11:45</td>\n",
       "      <td>CALL. EMBAJADORES / ACCESO CAJA MAGICA</td>\n",
       "      <td>-</td>\n",
       "      <td>ARGANZUELA</td>\n",
       "      <td>Colisión fronto-lateral</td>\n",
       "      <td>Despejado</td>\n",
       "      <td>Bicicleta</td>\n",
       "      <td>Conductor</td>\n",
       "      <td>DE 45 A 49 AÑOS</td>\n",
       "      <td>Mujer</td>\n",
       "      <td>2.0</td>\n",
       "    </tr>\n",
       "    <tr>\n",
       "      <th>346</th>\n",
       "      <td>2021S009537</td>\n",
       "      <td>31/05/2021</td>\n",
       "      <td>22:15</td>\n",
       "      <td>PASEO. RECOLETOS / CALL. ARMADA ESPAÑOLA</td>\n",
       "      <td>-</td>\n",
       "      <td>SALAMANCA</td>\n",
       "      <td>Caída</td>\n",
       "      <td>Lluvia débil</td>\n",
       "      <td>Bicicleta</td>\n",
       "      <td>Conductor</td>\n",
       "      <td>DE 40 A 44 AÑOS</td>\n",
       "      <td>Hombre</td>\n",
       "      <td>5.0</td>\n",
       "    </tr>\n",
       "    <tr>\n",
       "      <th>347</th>\n",
       "      <td>2021S009532</td>\n",
       "      <td>31/05/2021</td>\n",
       "      <td>20:35</td>\n",
       "      <td>CALL. VIA CARPETANA</td>\n",
       "      <td>57</td>\n",
       "      <td>CARABANCHEL</td>\n",
       "      <td>Caída</td>\n",
       "      <td>NaN</td>\n",
       "      <td>Bicicleta</td>\n",
       "      <td>Conductor</td>\n",
       "      <td>DESCONOCIDA</td>\n",
       "      <td>NaN</td>\n",
       "      <td>NaN</td>\n",
       "    </tr>\n",
       "    <tr>\n",
       "      <th>348</th>\n",
       "      <td>2021S009570</td>\n",
       "      <td>31/05/2021</td>\n",
       "      <td>14:20</td>\n",
       "      <td>PLAZA. EMPERADOR CARLOS V</td>\n",
       "      <td>1</td>\n",
       "      <td>CENTRO</td>\n",
       "      <td>Alcance</td>\n",
       "      <td>Despejado</td>\n",
       "      <td>Bicicleta EPAC (pedaleo asistido)</td>\n",
       "      <td>Conductor</td>\n",
       "      <td>DE 30 A 34 AÑOS</td>\n",
       "      <td>Hombre</td>\n",
       "      <td>NaN</td>\n",
       "    </tr>\n",
       "  </tbody>\n",
       "</table>\n",
       "<p>349 rows × 13 columns</p>\n",
       "</div>"
      ],
      "text/plain": [
       "    Nº  EXPEDIENTE       FECHA   HORA  \\\n",
       "0      2021S000047  01/01/2021  11:38   \n",
       "1      2021S000142  04/01/2021  11:30   \n",
       "2      2021S000142  04/01/2021  11:30   \n",
       "3      2021S000142  04/01/2021  11:30   \n",
       "4      2021S000142  04/01/2021  11:30   \n",
       "..             ...         ...    ...   \n",
       "344    2021S009511  30/05/2021  15:10   \n",
       "345    2021S009423  30/05/2021  11:45   \n",
       "346    2021S009537  31/05/2021  22:15   \n",
       "347    2021S009532  31/05/2021  20:35   \n",
       "348    2021S009570  31/05/2021  14:20   \n",
       "\n",
       "                                                 CALLE NÚMERO  \\\n",
       "0    CALL. JOSE BERGAMIN / CALL. FLORENCIO CANO CRI...      -   \n",
       "1                 WANDA METROPOLITANO PARQUE FAROLA 20      -   \n",
       "2                 WANDA METROPOLITANO PARQUE FAROLA 20      -   \n",
       "3                 WANDA METROPOLITANO PARQUE FAROLA 20      -   \n",
       "4                 WANDA METROPOLITANO PARQUE FAROLA 20      -   \n",
       "..                                                 ...    ...   \n",
       "344           CALL. PEDRO RICO / CALL. ARTURO DUPERIER      -   \n",
       "345             CALL. EMBAJADORES / ACCESO CAJA MAGICA      -   \n",
       "346           PASEO. RECOLETOS / CALL. ARMADA ESPAÑOLA      -   \n",
       "347                                CALL. VIA CARPETANA     57   \n",
       "348                          PLAZA. EMPERADOR CARLOS V      1   \n",
       "\n",
       "                DISTRITO           TIPO ACCIDENTE ESTADO METEREOLÓGICO  \\\n",
       "0              MORATALAZ                    Caída            Despejado   \n",
       "1    SAN BLAS-CANILLEJAS                    Caída            Despejado   \n",
       "2    SAN BLAS-CANILLEJAS                    Caída            Despejado   \n",
       "3    SAN BLAS-CANILLEJAS                    Caída            Despejado   \n",
       "4    SAN BLAS-CANILLEJAS                    Caída            Despejado   \n",
       "..                   ...                      ...                  ...   \n",
       "344  FUENCARRAL-EL PARDO                    Caída            Despejado   \n",
       "345           ARGANZUELA  Colisión fronto-lateral            Despejado   \n",
       "346            SALAMANCA                    Caída         Lluvia débil   \n",
       "347          CARABANCHEL                    Caída                  NaN   \n",
       "348               CENTRO                  Alcance            Despejado   \n",
       "\n",
       "                         TIPO VEHÍCULO TIPO PERSONA    RANGO DE EDAD    SEXO  \\\n",
       "0                            Bicicleta   Conductor   DE 45 A 49 AÑOS  Hombre   \n",
       "1                            Bicicleta   Conductor   DE 21 A 24 AÑOS  Hombre   \n",
       "2                            Bicicleta   Conductor   DE 15 A 17 AÑOS  Hombre   \n",
       "3                            Bicicleta   Conductor   DE 18 A 20 AÑOS  Hombre   \n",
       "4                            Bicicleta   Conductor   DE 50 A 54 AÑOS  Hombre   \n",
       "..                                 ...          ...              ...     ...   \n",
       "344                          Bicicleta    Conductor  DE 60 A 64 AÑOS  Hombre   \n",
       "345                          Bicicleta    Conductor  DE 45 A 49 AÑOS   Mujer   \n",
       "346                          Bicicleta    Conductor  DE 40 A 44 AÑOS  Hombre   \n",
       "347                          Bicicleta    Conductor      DESCONOCIDA     NaN   \n",
       "348  Bicicleta EPAC (pedaleo asistido)    Conductor  DE 30 A 34 AÑOS  Hombre   \n",
       "\n",
       "     LESIVIDAD*  \n",
       "0           2.0  \n",
       "1          14.0  \n",
       "2          14.0  \n",
       "3          14.0  \n",
       "4           6.0  \n",
       "..          ...  \n",
       "344         2.0  \n",
       "345         2.0  \n",
       "346         5.0  \n",
       "347         NaN  \n",
       "348         NaN  \n",
       "\n",
       "[349 rows x 13 columns]"
      ]
     },
     "execution_count": 3,
     "metadata": {},
     "output_type": "execute_result"
    }
   ],
   "source": [
    "df= pd.read_csv('AccidentesBicicletas_2021.csv', sep=';')\n",
    "df"
   ]
  },
  {
   "cell_type": "markdown",
   "id": "98b51629",
   "metadata": {},
   "source": [
    "## Identificar NaN"
   ]
  },
  {
   "cell_type": "code",
   "execution_count": 13,
   "id": "8ee55473",
   "metadata": {},
   "outputs": [
    {
     "data": {
      "text/plain": [
       "Nº  EXPEDIENTE           0\n",
       "FECHA                    0\n",
       "HORA                     0\n",
       "CALLE                    0\n",
       "NÚMERO                   0\n",
       "DISTRITO                 0\n",
       "TIPO ACCIDENTE           0\n",
       "ESTADO METEREOLÓGICO    15\n",
       "TIPO VEHÍCULO            0\n",
       "TIPO PERSONA             0\n",
       "RANGO DE EDAD            0\n",
       "SEXO                     9\n",
       "LESIVIDAD*              48\n",
       "dtype: int64"
      ]
     },
     "execution_count": 13,
     "metadata": {},
     "output_type": "execute_result"
    }
   ],
   "source": [
    "df.isnull().values.any()\n",
    "df.isnull().sum()"
   ]
  },
  {
   "cell_type": "code",
   "execution_count": 14,
   "id": "c6a5aa10",
   "metadata": {},
   "outputs": [
    {
     "name": "stdout",
     "output_type": "stream",
     "text": [
      "   ESTADO METEREOLÓGICO    SEXO  LESIVIDAD*\n",
      "6             Despejado  Hombre         NaN\n",
      "12                  NaN  Hombre         NaN\n",
      "15                  NaN  Hombre         NaN\n",
      "19            Despejado     NaN         NaN\n",
      "26            Despejado  Hombre         NaN\n"
     ]
    }
   ],
   "source": [
    "null_columns=df.columns[df.isnull().any()]\n",
    "df[null_columns].isnull().sum()\n",
    "print(df[df.isnull().any(axis=1)][null_columns].head())"
   ]
  },
  {
   "cell_type": "markdown",
   "id": "ba3ee406",
   "metadata": {},
   "source": [
    "## Identificar Columnas Duplicadas"
   ]
  },
  {
   "cell_type": "code",
   "execution_count": 21,
   "id": "7ab92cac",
   "metadata": {},
   "outputs": [],
   "source": [
    "duplicates = []"
   ]
  },
  {
   "cell_type": "code",
   "execution_count": 23,
   "id": "d958c497",
   "metadata": {},
   "outputs": [
    {
     "data": {
      "text/plain": [
       "[]"
      ]
     },
     "execution_count": 23,
     "metadata": {},
     "output_type": "execute_result"
    }
   ],
   "source": [
    "\n",
    "    for columns in range(df.shape[1]):\n",
    "        contents = df.iloc[:, columns]\n",
    "        for comp in range(columns + 1, df.shape[1]):\n",
    "            if contents.equals(df.iloc[:, comp]):\n",
    "                duplicates.append(comp)\n",
    "                    \n",
    "duplicates = np.unique(duplicates).tolist()\n",
    "duplicates"
   ]
  },
  {
   "cell_type": "code",
   "execution_count": 31,
   "id": "d9270b4b",
   "metadata": {},
   "outputs": [
    {
     "data": {
      "text/plain": [
       "Nº  EXPEDIENTE           object\n",
       "FECHA                    object\n",
       "HORA                     object\n",
       "CALLE                    object\n",
       "NÚMERO                   object\n",
       "DISTRITO                 object\n",
       "TIPO ACCIDENTE           object\n",
       "ESTADO METEREOLÓGICO     object\n",
       "TIPO VEHÍCULO            object\n",
       "TIPO PERSONA             object\n",
       "RANGO DE EDAD            object\n",
       "SEXO                     object\n",
       "LESIVIDAD*              float64\n",
       "dtype: object"
      ]
     },
     "execution_count": 31,
     "metadata": {},
     "output_type": "execute_result"
    }
   ],
   "source": [
    "df.dtypes"
   ]
  },
  {
   "cell_type": "markdown",
   "id": "d2fc98b7",
   "metadata": {},
   "source": [
    "## Identificar Fecha"
   ]
  },
  {
   "cell_type": "code",
   "execution_count": 41,
   "id": "f7b35831",
   "metadata": {},
   "outputs": [],
   "source": [
    "for row in df:\n",
    "    for i in row:\n",
    "         # check if cell is date YYYY-MM-DD or YYYY-MM-DD:HH:MM:SS\n",
    "        if i.count('-') == 2:\n",
    "            try:\n",
    "                datetime.strptime(i, '%Y-%m-%d')\n",
    "            except ValueError:\n",
    "                    print(i, \"is not a valid date\")\n",
    "                    if(i.count(':')>=2):\n",
    "                        try:\n",
    "                            datetime.strptime(i, '%Y-%m-%d:%H:%M:%S')\n",
    "                        except ValueError:\n",
    "                            print(i, \"is not a valid date\")\n"
   ]
  },
  {
   "cell_type": "code",
   "execution_count": 4,
   "id": "18719a00",
   "metadata": {},
   "outputs": [
    {
     "name": "stdout",
     "output_type": "stream",
     "text": [
      "Nº  EXPEDIENTE\n",
      "Nº  EXPEDIENTE\n",
      "TIPO ACCIDENTE\n",
      "ESTADO METEREOLÓGICO\n",
      "TIPO VEHÍCULO\n",
      "TIPO PERSONA\n",
      "RANGO DE EDAD\n",
      "RANGO DE EDAD\n"
     ]
    }
   ],
   "source": [
    "for row in df:\n",
    "    for col in row:\n",
    "        if ' ' in col:\n",
    "            print(row)"
   ]
  },
  {
   "cell_type": "code",
   "execution_count": null,
   "id": "362236ea",
   "metadata": {},
   "outputs": [],
   "source": []
  }
 ],
 "metadata": {
  "interpreter": {
   "hash": "e2e9fd0c07638217df31241f6a9d11298720ca342f32b7ef741c131ab8e361a8"
  },
  "kernelspec": {
   "display_name": "Python 3",
   "language": "python",
   "name": "python3"
  },
  "language_info": {
   "codemirror_mode": {
    "name": "ipython",
    "version": 3
   },
   "file_extension": ".py",
   "mimetype": "text/x-python",
   "name": "python",
   "nbconvert_exporter": "python",
   "pygments_lexer": "ipython3",
   "version": "3.8.8"
  }
 },
 "nbformat": 4,
 "nbformat_minor": 5
}
