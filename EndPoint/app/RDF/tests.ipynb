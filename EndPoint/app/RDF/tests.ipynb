{
 "metadata": {
  "language_info": {
   "codemirror_mode": {
    "name": "ipython",
    "version": 3
   },
   "file_extension": ".py",
   "mimetype": "text/x-python",
   "name": "python",
   "nbconvert_exporter": "python",
   "pygments_lexer": "ipython3",
   "version": "3.9.2"
  },
  "orig_nbformat": 4,
  "kernelspec": {
   "name": "python3",
   "display_name": "Python 3.9.2 64-bit ('venv': venv)"
  },
  "interpreter": {
   "hash": "48c6f5cef3b522b8ab76cda2d1d15147163abf5804e89b50769ec9907b8589f7"
  }
 },
 "nbformat": 4,
 "nbformat_minor": 2,
 "cells": [
  {
   "cell_type": "code",
   "execution_count": 1,
   "metadata": {},
   "outputs": [],
   "source": [
    "from validator import *\n",
    "from funciones import downloadCSV"
   ]
  },
  {
   "source": [
    "## hasRepetitiveCols"
   ],
   "cell_type": "markdown",
   "metadata": {}
  },
  {
   "cell_type": "code",
   "execution_count": 2,
   "metadata": {},
   "outputs": [
    {
     "output_type": "stream",
     "name": "stdout",
     "text": [
      "row=[1, 2, 3, 4, 5, 6] : []\nrow=[1, 2, 3, 4, 5, 6, 2] : [((0, 6), 2)]\n"
     ]
    }
   ],
   "source": [
    "row = [1,2,3,4,5,6]\n",
    "print(f\"{row=} : {hasRepetitiveCols(row,0)}\")\n",
    "\n",
    "row = [1,2,3,4,5,6,2]\n",
    "print(f\"{row=} : {hasRepetitiveCols(row,0)}\")"
   ]
  },
  {
   "source": [
    "## checkNumber"
   ],
   "cell_type": "markdown",
   "metadata": {}
  },
  {
   "cell_type": "code",
   "execution_count": 3,
   "metadata": {},
   "outputs": [
    {
     "output_type": "stream",
     "name": "stdout",
     "text": [
      "val='946546845' : False\nval='00845649' : True\nval='\"0000564654816\"' : False\nval='S1561156' : False\nval='0615465651000' : True\n"
     ]
    }
   ],
   "source": [
    "tests = [\"946546845\",\"00845649\",\"\\\"0000564654816\\\"\",\"S1561156\",\"0615465651000\"]\n",
    "for val in tests:\n",
    "    print(f\"{val=} : {checkNumber(val)}\")"
   ]
  },
  {
   "source": [
    "## checkFechas"
   ],
   "cell_type": "markdown",
   "metadata": {}
  },
  {
   "cell_type": "code",
   "execution_count": 4,
   "metadata": {},
   "outputs": [
    {
     "output_type": "stream",
     "name": "stdout",
     "text": [
      "val='2020-07-06' : False\nval='2020-07-06:23:50:02' : False\nval='2015/25/46' : True\nval='SSSS/545/6' : False\n"
     ]
    }
   ],
   "source": [
    "tests = [\"2020-07-06\",\"2020-07-06:23:50:02\",\"2015/25/46\",\"SSSS/545/6\"]\n",
    "for val in tests:\n",
    "    print(f\"{val=} : {checkFechas(val)}\")"
   ]
  },
  {
   "source": [
    "## checkTelephone\n"
   ],
   "cell_type": "markdown",
   "metadata": {}
  },
  {
   "cell_type": "code",
   "execution_count": 5,
   "metadata": {},
   "outputs": [
    {
     "output_type": "stream",
     "name": "stdout",
     "text": [
      "val='' : None\nval='' : None\nval='' : None\n"
     ]
    }
   ],
   "source": [
    "tests = [\"\",\"\",\"\"]\n",
    "for val in tests:\n",
    "    print(f\"{val=} : {checkTelephone(val)}\")"
   ]
  },
  {
   "cell_type": "code",
   "execution_count": 6,
   "metadata": {
    "tags": []
   },
   "outputs": [
    {
     "output_type": "execute_result",
     "data": {
      "text/plain": [
       "{'columnas': {'repeticion': []},\n",
       " 'CamposTexto': {'ceroizquierda': [((2, 2), '01'),\n",
       "   ((2, 4), '014'),\n",
       "   ((3, 2), '01'),\n",
       "   ((3, 4), '014'),\n",
       "   ((5, 2), '01'),\n",
       "   ((5, 4), '015'),\n",
       "   ((6, 2), '01'),\n",
       "   ((6, 4), '015'),\n",
       "   ((10, 2), '01'),\n",
       "   ((10, 4), '016'),\n",
       "   ((11, 2), '01'),\n",
       "   ((11, 4), '011'),\n",
       "   ((12, 2), '01'),\n",
       "   ((12, 4), '011'),\n",
       "   ((14, 2), '01'),\n",
       "   ((14, 4), '011'),\n",
       "   ((15, 2), '01'),\n",
       "   ((15, 4), '016'),\n",
       "   ((16, 2), '01'),\n",
       "   ((16, 4), '016'),\n",
       "   ((17, 2), '01'),\n",
       "   ((17, 4), '011'),\n",
       "   ((20, 2), '01'),\n",
       "   ((20, 4), '011'),\n",
       "   ((21, 2), '01'),\n",
       "   ((21, 4), '011'),\n",
       "   ((23, 2), '01'),\n",
       "   ((23, 4), '011'),\n",
       "   ((26, 2), '01'),\n",
       "   ((26, 4), '011'),\n",
       "   ((28, 2), '01'),\n",
       "   ((28, 4), '011'),\n",
       "   ((31, 2), '01'),\n",
       "   ((31, 4), '011'),\n",
       "   ((32, 2), '01'),\n",
       "   ((32, 4), '011'),\n",
       "   ((33, 2), '01'),\n",
       "   ((33, 4), '011'),\n",
       "   ((35, 2), '01'),\n",
       "   ((35, 4), '011'),\n",
       "   ((36, 2), '01'),\n",
       "   ((36, 4), '011'),\n",
       "   ((38, 2), '01'),\n",
       "   ((38, 4), '011'),\n",
       "   ((40, 2), '01'),\n",
       "   ((40, 4), '011'),\n",
       "   ((41, 2), '01'),\n",
       "   ((41, 4), '011'),\n",
       "   ((42, 2), '01'),\n",
       "   ((42, 4), '011'),\n",
       "   ((43, 2), '01'),\n",
       "   ((43, 4), '012'),\n",
       "   ((45, 2), '01'),\n",
       "   ((45, 4), '016'),\n",
       "   ((47, 2), '01'),\n",
       "   ((47, 4), '012'),\n",
       "   ((48, 2), '01'),\n",
       "   ((48, 4), '013'),\n",
       "   ((50, 2), '01'),\n",
       "   ((50, 4), '012'),\n",
       "   ((51, 2), '01'),\n",
       "   ((51, 4), '012')]},\n",
       " 'CampoNumerico': {'Region': [((10, 1),\n",
       "    'SITUADO APARCABICICLETAS - Pz. CALLAO Nï¿½1'),\n",
       "   ((11, 1), 'SITUADO APARCABICICLETAS - Pz. SANTO DOMINGO Nï¿½19'),\n",
       "   ((12, 1), 'SITUADO APARCABICICLETAS - Pz. SANTO DOMINGO Nï¿½19'),\n",
       "   ((15, 1), 'SITUADO APARCABICICLETAS - Pz. SAN MARTIN Nï¿½1'),\n",
       "   ((16, 1), 'SITUADO APARCABICICLETAS - Pz. SAN MARTIN Nï¿½5'),\n",
       "   ((17, 1), 'SITUADO APARCABICICLETAS - Pz. ISABEL II Nï¿½6'),\n",
       "   ((20, 1), 'SITUADO APARCABICICLETAS - Pz. ISABEL II Nï¿½8'),\n",
       "   ((35, 1), 'SITUADO APARCABICICLETAS - Pz. PUERTA DE MOROS Nï¿½5'),\n",
       "   ((36, 1), 'SITUADO APARCABICICLETAS - Pz. DE LA PAJA Nï¿½3'),\n",
       "   ((38, 1), 'SITUADO APARCABICICLETAS - Pz. CRUZ VERDE Nï¿½1'),\n",
       "   ((45, 1), 'SITUADO APARCABICICLETAS - Pz. PROVINCIA Nï¿½3'),\n",
       "   ((48, 1), 'SITUADO APARCABICICLETAS - Pz. SANTA ANA Nï¿½15')]},\n",
       " 'Fechas': {'formatoFecha': [((1, 7), '01/03/13'),\n",
       "   ((4, 7), '01/03/13'),\n",
       "   ((7, 7), '01/03/13'),\n",
       "   ((8, 7), '01/03/13'),\n",
       "   ((9, 7), '01/03/13'),\n",
       "   ((13, 7), '01/03/13'),\n",
       "   ((18, 7), '01/03/13'),\n",
       "   ((19, 7), '01/03/13'),\n",
       "   ((22, 7), '01/03/13'),\n",
       "   ((24, 7), '01/03/13'),\n",
       "   ((25, 7), '01/03/13'),\n",
       "   ((27, 7), '01/03/13'),\n",
       "   ((29, 7), '01/03/13'),\n",
       "   ((30, 7), '01/03/13'),\n",
       "   ((34, 7), '01/03/13'),\n",
       "   ((37, 7), '01/03/13'),\n",
       "   ((39, 7), '01/03/13'),\n",
       "   ((44, 7), '01/03/13'),\n",
       "   ((46, 7), '01/03/13'),\n",
       "   ((49, 7), '01/03/13')]},\n",
       " 'CampoTelefono': {'codigopais': []},\n",
       " 'errorProcessing': '',\n",
       " 'repetition': []}"
      ]
     },
     "metadata": {},
     "execution_count": 6
    }
   ],
   "source": [
    "initializeProcess(\"APARCABICIS_2019.csv\")\n",
    "#f = open(\"APARCABICIS_2019.csv\", \"r\")\n",
    "#findDelimiter(f)"
   ]
  },
  {
   "cell_type": "code",
   "execution_count": 7,
   "metadata": {
    "tags": []
   },
   "outputs": [
    {
     "output_type": "stream",
     "name": "stdout",
     "text": [
      "downloadCSV >> TIME ELAPSE DOWNLOAD : 0.2810490131378174\n{'columnas': {'repeticion': []}, 'CamposTexto': {'ceroizquierda': [((2, 2), '01'), ((2, 4), '014'), ((3, 2), '01'), ((3, 4), '014'), ((5, 2), '01'), ((5, 4), '015'), ((6, 2), '01'), ((6, 4), '015'), ((10, 2), '01'), ((10, 4), '016'), ((11, 2), '01'), ((11, 4), '011'), ((12, 2), '01'), ((12, 4), '011'), ((14, 2), '01'), ((14, 4), '011'), ((15, 2), '01'), ((15, 4), '016'), ((16, 2), '01'), ((16, 4), '016'), ((17, 2), '01'), ((17, 4), '011'), ((20, 2), '01'), ((20, 4), '011'), ((21, 2), '01'), ((21, 4), '011'), ((23, 2), '01'), ((23, 4), '011'), ((26, 2), '01'), ((26, 4), '011'), ((28, 2), '01'), ((28, 4), '011'), ((31, 2), '01'), ((31, 4), '011'), ((32, 2), '01'), ((32, 4), '011'), ((33, 2), '01'), ((33, 4), '011'), ((35, 2), '01'), ((35, 4), '011'), ((36, 2), '01'), ((36, 4), '011'), ((38, 2), '01'), ((38, 4), '011'), ((40, 2), '01'), ((40, 4), '011'), ((41, 2), '01'), ((41, 4), '011'), ((42, 2), '01'), ((42, 4), '011'), ((43, 2), '01'), ((43, 4), '012'), ((45, 2), '01'), ((45, 4), '016'), ((47, 2), '01'), ((47, 4), '012'), ((48, 2), '01'), ((48, 4), '013'), ((50, 2), '01'), ((50, 4), '012'), ((51, 2), '01'), ((51, 4), '012')]}, 'CampoNumerico': {'Region': [((10, 1), 'SITUADO APARCABICICLETAS - Pz. CALLAO Nº1'), ((11, 1), 'SITUADO APARCABICICLETAS - Pz. SANTO DOMINGO Nº19'), ((12, 1), 'SITUADO APARCABICICLETAS - Pz. SANTO DOMINGO Nº19'), ((15, 1), 'SITUADO APARCABICICLETAS - Pz. SAN MARTIN Nº1'), ((16, 1), 'SITUADO APARCABICICLETAS - Pz. SAN MARTIN Nº5'), ((17, 1), 'SITUADO APARCABICICLETAS - Pz. ISABEL II Nº6'), ((20, 1), 'SITUADO APARCABICICLETAS - Pz. ISABEL II Nº8'), ((35, 1), 'SITUADO APARCABICICLETAS - Pz. PUERTA DE MOROS Nº5'), ((36, 1), 'SITUADO APARCABICICLETAS - Pz. DE LA PAJA Nº3'), ((38, 1), 'SITUADO APARCABICICLETAS - Pz. CRUZ VERDE Nº1'), ((45, 1), 'SITUADO APARCABICICLETAS - Pz. PROVINCIA Nº3'), ((48, 1), 'SITUADO APARCABICICLETAS - Pz. SANTA ANA Nº15')]}, 'Fechas': {'formatoFecha': [((1, 7), '01/03/13'), ((4, 7), '01/03/13'), ((7, 7), '01/03/13'), ((8, 7), '01/03/13'), ((9, 7), '01/03/13'), ((13, 7), '01/03/13'), ((18, 7), '01/03/13'), ((19, 7), '01/03/13'), ((22, 7), '01/03/13'), ((24, 7), '01/03/13'), ((25, 7), '01/03/13'), ((27, 7), '01/03/13'), ((29, 7), '01/03/13'), ((30, 7), '01/03/13'), ((34, 7), '01/03/13'), ((37, 7), '01/03/13'), ((39, 7), '01/03/13'), ((44, 7), '01/03/13'), ((46, 7), '01/03/13'), ((49, 7), '01/03/13')]}, 'CampoTelefono': {'codigopais': []}, 'errorProcessing': '', 'repetition': []}\n"
     ]
    }
   ],
   "source": [
    "datasetLink = \"https://cdn.discordapp.com/attachments/837633691320713216/864510821471485972/APARCABICIS_2019.csv\"\n",
    "filePath = downloadCSV(datasetLink)\n",
    "dictErrs = initializeProcess(filePath)\n",
    "\n",
    "print(dictErrs)"
   ]
  }
 ]
}