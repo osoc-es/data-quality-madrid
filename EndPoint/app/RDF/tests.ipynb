{
 "metadata": {
  "language_info": {
   "codemirror_mode": {
    "name": "ipython",
    "version": 3
   },
   "file_extension": ".py",
   "mimetype": "text/x-python",
   "name": "python",
   "nbconvert_exporter": "python",
   "pygments_lexer": "ipython3",
   "version": "3.9.2"
  },
  "orig_nbformat": 4,
  "kernelspec": {
   "name": "python3",
   "display_name": "Python 3.9.2 64-bit ('venv': venv)"
  },
  "interpreter": {
   "hash": "48c6f5cef3b522b8ab76cda2d1d15147163abf5804e89b50769ec9907b8589f7"
  }
 },
 "nbformat": 4,
 "nbformat_minor": 2,
 "cells": [
  {
   "cell_type": "code",
   "execution_count": 2,
   "metadata": {},
   "outputs": [],
   "source": [
    "from validator import *\n",
    "from funciones import downloadCSV"
   ]
  },
  {
   "source": [
    "## hasRepetitiveCols"
   ],
   "cell_type": "markdown",
   "metadata": {}
  },
  {
   "cell_type": "code",
   "execution_count": 3,
   "metadata": {},
   "outputs": [
    {
     "output_type": "stream",
     "name": "stdout",
     "text": [
      "row=[1, 2, 3, 4, 5, 6] : []\nrow=[1, 2, 3, 4, 5, 6, 2] : [((0, 6), 2)]\n"
     ]
    }
   ],
   "source": [
    "row = [1,2,3,4,5,6]\n",
    "print(f\"{row=} : {hasRepetitiveCols(row,0)}\")\n",
    "\n",
    "row = [1,2,3,4,5,6,2]\n",
    "print(f\"{row=} : {hasRepetitiveCols(row,0)}\")"
   ]
  },
  {
   "source": [
    "## checkNumber"
   ],
   "cell_type": "markdown",
   "metadata": {}
  },
  {
   "cell_type": "code",
   "execution_count": 4,
   "metadata": {},
   "outputs": [
    {
     "output_type": "stream",
     "name": "stdout",
     "text": [
      "val='946546845' : False\nval='00845649' : True\nval='\"0000564654816\"' : False\nval='S1561156' : False\nval='0615465651000' : True\n"
     ]
    }
   ],
   "source": [
    "tests = [\"946546845\",\"00845649\",\"\\\"0000564654816\\\"\",\"S1561156\",\"0615465651000\"]\n",
    "for val in tests:\n",
    "    print(f\"{val=} : {checkNumber(val)}\")"
   ]
  },
  {
   "source": [
    "## checkFechas"
   ],
   "cell_type": "markdown",
   "metadata": {}
  },
  {
   "cell_type": "code",
   "execution_count": 5,
   "metadata": {},
   "outputs": [
    {
     "output_type": "stream",
     "name": "stdout",
     "text": [
      "val='2020-07-06' : False\nval='2020-07-06:23:50:02' : False\nval='2015/25/46' : True\nval='SSSS/545/6' : False\n"
     ]
    }
   ],
   "source": [
    "tests = [\"2020-07-06\",\"2020-07-06:23:50:02\",\"2015/25/46\",\"SSSS/545/6\"]\n",
    "for val in tests:\n",
    "    print(f\"{val=} : {checkFechas(val)}\")"
   ]
  },
  {
   "source": [
    "## checkTelephone\n"
   ],
   "cell_type": "markdown",
   "metadata": {}
  },
  {
   "cell_type": "code",
   "execution_count": 6,
   "metadata": {},
   "outputs": [
    {
     "output_type": "stream",
     "name": "stdout",
     "text": [
      "val='' : None\nval='' : None\nval='' : None\n"
     ]
    }
   ],
   "source": [
    "tests = [\"\",\"\",\"\"]\n",
    "for val in tests:\n",
    "    print(f\"{val=} : {checkTelephone(val)}\")"
   ]
  },
  {
   "cell_type": "code",
   "execution_count": 7,
   "metadata": {
    "tags": []
   },
   "outputs": [
    {
     "output_type": "error",
     "ename": "FileNotFoundError",
     "evalue": "[Errno 2] No such file or directory: 'APARCABICIS_2019.csv'",
     "traceback": [
      "\u001b[1;31m---------------------------------------------------------------------------\u001b[0m",
      "\u001b[1;31mFileNotFoundError\u001b[0m                         Traceback (most recent call last)",
      "\u001b[1;32m~\\AppData\\Local\\Temp/ipykernel_9308/2474921854.py\u001b[0m in \u001b[0;36m<module>\u001b[1;34m\u001b[0m\n\u001b[1;32m----> 1\u001b[1;33m \u001b[0minitializeProcess\u001b[0m\u001b[1;33m(\u001b[0m\u001b[1;34m\"APARCABICIS_2019.csv\"\u001b[0m\u001b[1;33m)\u001b[0m\u001b[1;33m\u001b[0m\u001b[1;33m\u001b[0m\u001b[0m\n\u001b[0m\u001b[0;32m      2\u001b[0m \u001b[1;31m#f = open(\"APARCABICIS_2019.csv\", \"r\")\u001b[0m\u001b[1;33m\u001b[0m\u001b[1;33m\u001b[0m\u001b[1;33m\u001b[0m\u001b[0m\n\u001b[0;32m      3\u001b[0m \u001b[1;31m#findDelimiter(f)\u001b[0m\u001b[1;33m\u001b[0m\u001b[1;33m\u001b[0m\u001b[1;33m\u001b[0m\u001b[0m\n",
      "\u001b[1;32md:\\OneDrive\\Documentos\\Proyectos-Programas\\oSoC\\Data Quality\\EndPoint\\app\\RDF\\validator.py\u001b[0m in \u001b[0;36minitializeProcess\u001b[1;34m(csvFile)\u001b[0m\n\u001b[0;32m      7\u001b[0m     \u001b[0mstart\u001b[0m \u001b[1;33m=\u001b[0m \u001b[0mtime\u001b[0m\u001b[1;33m.\u001b[0m\u001b[0mtime\u001b[0m\u001b[1;33m(\u001b[0m\u001b[1;33m)\u001b[0m\u001b[1;33m\u001b[0m\u001b[1;33m\u001b[0m\u001b[0m\n\u001b[0;32m      8\u001b[0m     \u001b[1;31m# Initialize the process\u001b[0m\u001b[1;33m\u001b[0m\u001b[1;33m\u001b[0m\u001b[1;33m\u001b[0m\u001b[0m\n\u001b[1;32m----> 9\u001b[1;33m     \u001b[0mf\u001b[0m \u001b[1;33m=\u001b[0m \u001b[0mopen\u001b[0m\u001b[1;33m(\u001b[0m\u001b[0mcsvFile\u001b[0m\u001b[1;33m,\u001b[0m \u001b[1;34m\"r\"\u001b[0m\u001b[1;33m,\u001b[0m\u001b[0mencoding\u001b[0m\u001b[1;33m=\u001b[0m\u001b[1;34m\"ISO8859-1\"\u001b[0m\u001b[1;33m)\u001b[0m\u001b[1;33m\u001b[0m\u001b[1;33m\u001b[0m\u001b[0m\n\u001b[0m\u001b[0;32m     10\u001b[0m     \u001b[0mlines\u001b[0m \u001b[1;33m=\u001b[0m \u001b[0mf\u001b[0m\u001b[1;33m.\u001b[0m\u001b[0mreadlines\u001b[0m\u001b[1;33m(\u001b[0m\u001b[1;33m)\u001b[0m\u001b[1;33m\u001b[0m\u001b[1;33m\u001b[0m\u001b[0m\n\u001b[0;32m     11\u001b[0m \u001b[1;33m\u001b[0m\u001b[0m\n",
      "\u001b[1;31mFileNotFoundError\u001b[0m: [Errno 2] No such file or directory: 'APARCABICIS_2019.csv'"
     ]
    }
   ],
   "source": [
    "initializeProcess(\"APARCABICIS_2019.csv\")\n",
    "#f = open(\"APARCABICIS_2019.csv\", \"r\")\n",
    "#findDelimiter(f)"
   ]
  },
  {
   "cell_type": "code",
   "execution_count": 8,
   "metadata": {
    "tags": []
   },
   "outputs": [
    {
     "output_type": "stream",
     "name": "stdout",
     "text": [
      "downloadCSV >> TIME ELAPSE DOWNLOAD : 0.13799500465393066\nPROCCESS CSV >> 0.02599620819091797\n[]\n"
     ]
    }
   ],
   "source": [
    "datasetLink = \"https://cdn.discordapp.com/attachments/837633691320713216/864510821471485972/APARCABICIS_2019.csv\"\n",
    "datasetLink = \"https://datos.gob.es/apidata/catalog/dataset/l01280796-concesiones-de-quioscos1.csv\"\n",
    "filePath = downloadCSV(datasetLink)\n",
    "dictErrs = initializeProcess(filePath)\n",
    "\n",
    "print(dictErrs[\"CoordGeoGraficas\"][\"noSeparadas\"])"
   ]
  }
 ]
}