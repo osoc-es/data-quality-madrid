{
 "metadata": {
  "language_info": {
   "codemirror_mode": {
    "name": "ipython",
    "version": 3
   },
   "file_extension": ".py",
   "mimetype": "text/x-python",
   "name": "python",
   "nbconvert_exporter": "python",
   "pygments_lexer": "ipython3",
   "version": "3.9.2"
  },
  "orig_nbformat": 4,
  "kernelspec": {
   "name": "python3",
   "display_name": "Python 3.9.2 64-bit ('venv': venv)"
  },
  "interpreter": {
   "hash": "48c6f5cef3b522b8ab76cda2d1d15147163abf5804e89b50769ec9907b8589f7"
  }
 },
 "nbformat": 4,
 "nbformat_minor": 2,
 "cells": [
  {
   "cell_type": "code",
   "execution_count": 2,
   "metadata": {},
   "outputs": [],
   "source": [
    "from validator import *"
   ]
  },
  {
   "source": [
    "## hasRepetitiveCols"
   ],
   "cell_type": "markdown",
   "metadata": {}
  },
  {
   "cell_type": "code",
   "execution_count": 3,
   "metadata": {},
   "outputs": [
    {
     "output_type": "stream",
     "name": "stdout",
     "text": [
      "row=[1, 2, 3, 4, 5, 6] : False\nrow=[1, 2, 3, 4, 5, 6, 2] : True\n"
     ]
    }
   ],
   "source": [
    "row = [1,2,3,4,5,6]\n",
    "print(f\"{row=} : {hasRepetitiveCols(row)}\")\n",
    "\n",
    "row = [1,2,3,4,5,6,2]\n",
    "print(f\"{row=} : {hasRepetitiveCols(row)}\")"
   ]
  },
  {
   "source": [
    "## checkNumber"
   ],
   "cell_type": "markdown",
   "metadata": {}
  },
  {
   "cell_type": "code",
   "execution_count": 4,
   "metadata": {},
   "outputs": [
    {
     "output_type": "stream",
     "name": "stdout",
     "text": [
      "val='946546845' : False\nval='00845649' : True\nval='\"0000564654816\"' : False\nval='S1561156' : False\nval='0615465651000' : True\n"
     ]
    }
   ],
   "source": [
    "tests = [\"946546845\",\"00845649\",\"\\\"0000564654816\\\"\",\"S1561156\",\"0615465651000\"]\n",
    "for val in tests:\n",
    "    print(f\"{val=} : {checkNumber(val)}\")"
   ]
  },
  {
   "source": [
    "## checkFechas"
   ],
   "cell_type": "markdown",
   "metadata": {}
  },
  {
   "cell_type": "code",
   "execution_count": 5,
   "metadata": {},
   "outputs": [
    {
     "output_type": "stream",
     "name": "stdout",
     "text": [
      "val='2020-07-06' : False\nval='2020-07-06:23:50:02' : False\nval='2015/25/46' : True\nval='SSSS/545/6' : False\n"
     ]
    }
   ],
   "source": [
    "tests = [\"2020-07-06\",\"2020-07-06:23:50:02\",\"2015/25/46\",\"SSSS/545/6\"]\n",
    "for val in tests:\n",
    "    print(f\"{val=} : {checkFechas(val)}\")"
   ]
  },
  {
   "source": [
    "## checkTelephone\n"
   ],
   "cell_type": "markdown",
   "metadata": {}
  },
  {
   "cell_type": "code",
   "execution_count": null,
   "metadata": {},
   "outputs": [],
   "source": [
    "tests = [\"\",\"\",\"\"]\n",
    "for val in tests:\n",
    "    print(f\"{val=} : {checkTelephone(val)}\")"
   ]
  }
 ]
}