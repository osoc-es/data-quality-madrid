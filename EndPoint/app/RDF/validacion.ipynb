{
 "cells": [
  {
   "cell_type": "code",
   "execution_count": 131,
   "id": "3de53942",
   "metadata": {},
   "outputs": [],
   "source": [
    "import pandas as pd\n",
    "import numpy as np\n",
    "import datetime\n",
    "import re\n",
    "import csv\n",
    "from datetime import datetime\n",
    "\n",
    "def findDelimiter(csvFile):\n",
    "    '''Find delimiter\n",
    "          \n",
    "      Args:\n",
    "          csvFile: csv file path\n",
    "      Returns:\n",
    "          delimiter\n",
    "    '''\n",
    "    try:\n",
    "        csv_file = open(csvFile,encoding=\"utf8\")\n",
    "    except IOError as e:\n",
    "        print(f'Unable to open the file {csvFile}')\n",
    "        print(e)\n",
    "    \n",
    "    dialect = csv.Sniffer().sniff(csv_file.read())\n",
    "    csv_file.seek(0)\n",
    "    csv_file.close()\n",
    "    return dialect.delimiter\n"
   ]
  },
  {
   "cell_type": "code",
   "execution_count": 132,
   "metadata": {},
   "outputs": [],
   "source": [
    "csvFileName = \"25142.csv\""
   ]
  },
  {
   "cell_type": "code",
   "execution_count": 133,
   "id": "8b51701b",
   "metadata": {
    "scrolled": true
   },
   "outputs": [
    {
     "output_type": "execute_result",
     "data": {
      "text/plain": [
       "     Comunidad autónoma de residencia                    Tipo de dato  \\\n",
       "0                      Total Nacional                       Dato base   \n",
       "1                      Total Nacional                       Dato base   \n",
       "2                      Total Nacional                       Dato base   \n",
       "3                      Total Nacional                       Dato base   \n",
       "4                      Total Nacional                       Dato base   \n",
       "...                               ...                             ...   \n",
       "5395                       19 Melilla  Variación respecto al año base   \n",
       "5396                       19 Melilla  Variación respecto al año base   \n",
       "5397                       19 Melilla  Variación respecto al año base   \n",
       "5398                       19 Melilla  Variación respecto al año base   \n",
       "5399                       19 Melilla  Variación respecto al año base   \n",
       "\n",
       "     Gastos totales, medios, distribución e índice  Periodo  \\\n",
       "0                                      Gasto total     2020   \n",
       "1                                      Gasto total     2019   \n",
       "2                                      Gasto total     2018   \n",
       "3                                      Gasto total     2017   \n",
       "4                                      Gasto total     2016   \n",
       "...                                            ...      ...   \n",
       "5395                 Índice sobre la media del gmp     2010   \n",
       "5396                 Índice sobre la media del gmp     2009   \n",
       "5397                 Índice sobre la media del gmp     2008   \n",
       "5398                 Índice sobre la media del gmp     2007   \n",
       "5399                 Índice sobre la media del gmp     2006   \n",
       "\n",
       "                      Total  \n",
       "0     0000000508.738.158,54  \n",
       "1            566.814.579,02  \n",
       "2            556.432.591,36  \n",
       "3            540.347.372,65  \n",
       "4            520.119.184,84  \n",
       "...                     ...  \n",
       "5395                    NaN  \n",
       "5396                    NaN  \n",
       "5397                    NaN  \n",
       "5398                    NaN  \n",
       "5399                    NaN  \n",
       "\n",
       "[5400 rows x 5 columns]"
      ],
      "text/html": "<div>\n<style scoped>\n    .dataframe tbody tr th:only-of-type {\n        vertical-align: middle;\n    }\n\n    .dataframe tbody tr th {\n        vertical-align: top;\n    }\n\n    .dataframe thead th {\n        text-align: right;\n    }\n</style>\n<table border=\"1\" class=\"dataframe\">\n  <thead>\n    <tr style=\"text-align: right;\">\n      <th></th>\n      <th>Comunidad autónoma de residencia</th>\n      <th>Tipo de dato</th>\n      <th>Gastos totales, medios, distribución e índice</th>\n      <th>Periodo</th>\n      <th>Total</th>\n    </tr>\n  </thead>\n  <tbody>\n    <tr>\n      <th>0</th>\n      <td>Total Nacional</td>\n      <td>Dato base</td>\n      <td>Gasto total</td>\n      <td>2020</td>\n      <td>0000000508.738.158,54</td>\n    </tr>\n    <tr>\n      <th>1</th>\n      <td>Total Nacional</td>\n      <td>Dato base</td>\n      <td>Gasto total</td>\n      <td>2019</td>\n      <td>566.814.579,02</td>\n    </tr>\n    <tr>\n      <th>2</th>\n      <td>Total Nacional</td>\n      <td>Dato base</td>\n      <td>Gasto total</td>\n      <td>2018</td>\n      <td>556.432.591,36</td>\n    </tr>\n    <tr>\n      <th>3</th>\n      <td>Total Nacional</td>\n      <td>Dato base</td>\n      <td>Gasto total</td>\n      <td>2017</td>\n      <td>540.347.372,65</td>\n    </tr>\n    <tr>\n      <th>4</th>\n      <td>Total Nacional</td>\n      <td>Dato base</td>\n      <td>Gasto total</td>\n      <td>2016</td>\n      <td>520.119.184,84</td>\n    </tr>\n    <tr>\n      <th>...</th>\n      <td>...</td>\n      <td>...</td>\n      <td>...</td>\n      <td>...</td>\n      <td>...</td>\n    </tr>\n    <tr>\n      <th>5395</th>\n      <td>19 Melilla</td>\n      <td>Variación respecto al año base</td>\n      <td>Índice sobre la media del gmp</td>\n      <td>2010</td>\n      <td>NaN</td>\n    </tr>\n    <tr>\n      <th>5396</th>\n      <td>19 Melilla</td>\n      <td>Variación respecto al año base</td>\n      <td>Índice sobre la media del gmp</td>\n      <td>2009</td>\n      <td>NaN</td>\n    </tr>\n    <tr>\n      <th>5397</th>\n      <td>19 Melilla</td>\n      <td>Variación respecto al año base</td>\n      <td>Índice sobre la media del gmp</td>\n      <td>2008</td>\n      <td>NaN</td>\n    </tr>\n    <tr>\n      <th>5398</th>\n      <td>19 Melilla</td>\n      <td>Variación respecto al año base</td>\n      <td>Índice sobre la media del gmp</td>\n      <td>2007</td>\n      <td>NaN</td>\n    </tr>\n    <tr>\n      <th>5399</th>\n      <td>19 Melilla</td>\n      <td>Variación respecto al año base</td>\n      <td>Índice sobre la media del gmp</td>\n      <td>2006</td>\n      <td>NaN</td>\n    </tr>\n  </tbody>\n</table>\n<p>5400 rows × 5 columns</p>\n</div>"
     },
     "metadata": {},
     "execution_count": 133
    }
   ],
   "source": [
    "df= pd.read_csv(csvFileName,encoding=\"utf8\", sep=findDelimiter(csvFileName))\n",
    "df"
   ]
  },
  {
   "cell_type": "markdown",
   "id": "98b51629",
   "metadata": {},
   "source": [
    "## Identificar NaN"
   ]
  },
  {
   "cell_type": "code",
   "execution_count": 134,
   "id": "8ee55473",
   "metadata": {},
   "outputs": [
    {
     "output_type": "execute_result",
     "data": {
      "text/plain": [
       "Comunidad autónoma de residencia                    0\n",
       "Tipo de dato                                        0\n",
       "Gastos totales, medios, distribución e índice       0\n",
       "Periodo                                             0\n",
       "Total                                            1360\n",
       "dtype: int64"
      ]
     },
     "metadata": {},
     "execution_count": 134
    }
   ],
   "source": [
    "df.isnull().values.any()\n",
    "df.isnull().sum()"
   ]
  },
  {
   "cell_type": "code",
   "execution_count": 135,
   "id": "c6a5aa10",
   "metadata": {},
   "outputs": [
    {
     "output_type": "stream",
     "name": "stdout",
     "text": [
      "    Total\n104   NaN\n105   NaN\n106   NaN\n107   NaN\n108   NaN\n"
     ]
    }
   ],
   "source": [
    "null_columns=df.columns[df.isnull().any()]\n",
    "df[null_columns].isnull().sum()\n",
    "print(df[df.isnull().any(axis=1)][null_columns].head())"
   ]
  },
  {
   "cell_type": "code",
   "execution_count": 136,
   "metadata": {},
   "outputs": [
    {
     "output_type": "execute_result",
     "data": {
      "text/plain": [
       "Comunidad autónoma de residencia                                     Total Nacional\n",
       "Tipo de dato                                     Variación respecto al año anterior\n",
       "Gastos totales, medios, distribución e índice                           Gasto total\n",
       "Periodo                                                                        2006\n",
       "Total                                                                           NaN\n",
       "Name: 104, dtype: object"
      ]
     },
     "metadata": {},
     "execution_count": 136
    }
   ],
   "source": [
    "df.iloc[104]"
   ]
  },
  {
   "cell_type": "markdown",
   "id": "ba3ee406",
   "metadata": {},
   "source": [
    "## Identificar Columnas Duplicadas"
   ]
  },
  {
   "cell_type": "code",
   "execution_count": 137,
   "id": "7ab92cac",
   "metadata": {},
   "outputs": [],
   "source": [
    "duplicates = []"
   ]
  },
  {
   "cell_type": "code",
   "execution_count": 138,
   "id": "d958c497",
   "metadata": {},
   "outputs": [
    {
     "output_type": "execute_result",
     "data": {
      "text/plain": [
       "[]"
      ]
     },
     "metadata": {},
     "execution_count": 138
    }
   ],
   "source": [
    "\n",
    "    for columns in range(df.shape[1]):\n",
    "        contents = df.iloc[:, columns]\n",
    "        for comp in range(columns + 1, df.shape[1]):\n",
    "            if contents.equals(df.iloc[:, comp]):\n",
    "                duplicates.append(comp)\n",
    "                    \n",
    "duplicates = np.unique(duplicates).tolist()\n",
    "duplicates"
   ]
  },
  {
   "cell_type": "code",
   "execution_count": 139,
   "id": "d9270b4b",
   "metadata": {},
   "outputs": [
    {
     "output_type": "execute_result",
     "data": {
      "text/plain": [
       "Comunidad autónoma de residencia                 object\n",
       "Tipo de dato                                     object\n",
       "Gastos totales, medios, distribución e índice    object\n",
       "Periodo                                           int64\n",
       "Total                                            object\n",
       "dtype: object"
      ]
     },
     "metadata": {},
     "execution_count": 139
    }
   ],
   "source": [
    "df.dtypes"
   ]
  },
  {
   "cell_type": "markdown",
   "id": "d2fc98b7",
   "metadata": {},
   "source": [
    "## Identificar Fecha"
   ]
  },
  {
   "cell_type": "code",
   "execution_count": 140,
   "id": "f7b35831",
   "metadata": {},
   "outputs": [],
   "source": [
    "for row in df:\n",
    "    for i in row:\n",
    "         # check if cell is date YYYY-MM-DD or YYYY-MM-DD:HH:MM:SS\n",
    "        if i.count('-') == 2:\n",
    "            try:\n",
    "                datetime.strptime(i, '%Y-%m-%d')\n",
    "            except ValueError:\n",
    "                    print(i, \"is not a valid date\")\n",
    "                    if(i.count(':')>=2):\n",
    "                        try:\n",
    "                            datetime.strptime(i, '%Y-%m-%d:%H:%M:%S')\n",
    "                        except ValueError:\n",
    "                            print(i, \"is not a valid date\")\n"
   ]
  },
  {
   "cell_type": "code",
   "execution_count": 141,
   "id": "18719a00",
   "metadata": {},
   "outputs": [
    {
     "output_type": "stream",
     "name": "stdout",
     "text": [
      "Comunidad autónoma de residencia\nComunidad autónoma de residencia\nComunidad autónoma de residencia\nTipo de dato\nTipo de dato\nGastos totales, medios, distribución e índice\nGastos totales, medios, distribución e índice\nGastos totales, medios, distribución e índice\nGastos totales, medios, distribución e índice\nGastos totales, medios, distribución e índice\n"
     ]
    }
   ],
   "source": [
    "for row in df:\n",
    "    for col in row:\n",
    "        if ' ' in col:\n",
    "            print(row)"
   ]
  },
  {
   "cell_type": "code",
   "execution_count": 149,
   "metadata": {},
   "outputs": [
    {
     "output_type": "execute_result",
     "data": {
      "text/plain": [
       "True"
      ]
     },
     "metadata": {},
     "execution_count": 149
    }
   ],
   "source": [
    "def checkNumber(value):\n",
    "    # Se puede convertir 009 --> 9\n",
    "    try:\n",
    "        int(value)\n",
    "    except Exception:\n",
    "        return False\n",
    "    # Se pueden pasar numeros, en tal caso esta formateado    \n",
    "    if(type(value) == int): \n",
    "        return False\n",
    "    # Es String y es numerico\n",
    "    return (not not (re.match(r\"[0][0-9]*\",value)) ) or value == \"0\"\n",
    "\n",
    "\n",
    "\n",
    "def checkFechas(value):\n",
    "    if not (type(value) == str):\n",
    "        return False\n",
    "    # Puede ser fecha al tener - y /\n",
    "    if value.count('-') == 2 or value.count('/') == 2 :\n",
    "        # ¿Puede se hora con :?\n",
    "        if \":\" in value:\n",
    "            try:\n",
    "                datetime.strptime(value, \"%Y-%m-%d:%H:%M:%S\")\n",
    "            except ValueError:\n",
    "                return True\n",
    "        else:\n",
    "            try:\n",
    "                datetime.strptime(value, \"%Y-%m-%d\")\n",
    "            except ValueError:\n",
    "                return True\n",
    "    return False\n",
    "checkFechas(\"2020-12-07:05:02:06\")\n",
    "\n",
    "#datetime.strptime(\"2020-12-07\", \"%Y-%m-%d\")      \n",
    "checkNumber(\"0\")\n"
   ]
  },
  {
   "cell_type": "code",
   "execution_count": 147,
   "metadata": {},
   "outputs": [
    {
     "output_type": "stream",
     "name": "stdout",
     "text": [
      "{'fechas': [], 'numbers': ['0', '0', '0', '0', '0', '0', '0', '0', '0', '0', '0', '0', '0', '0', '0']}\n"
     ]
    }
   ],
   "source": [
    "dictErrs = {\n",
    "    \"fechas\" : [],\n",
    "    \"numbers\": [],\n",
    "}\n",
    "for i in df.columns:\n",
    "    dictErrs[\"numbers\"] += [x for x in df[i] if checkNumber(x)]\n",
    "    dictErrs[\"fechas\"] += [x for x in df[i] if checkFechas(x)]\n",
    "print(dictErrs)"
   ]
  }
 ],
 "metadata": {
  "interpreter": {
   "hash": "48c6f5cef3b522b8ab76cda2d1d15147163abf5804e89b50769ec9907b8589f7"
  },
  "kernelspec": {
   "name": "python3",
   "display_name": "Python 3.9.2 64-bit ('venv': venv)"
  },
  "language_info": {
   "codemirror_mode": {
    "name": "ipython",
    "version": 3
   },
   "file_extension": ".py",
   "mimetype": "text/x-python",
   "name": "python",
   "nbconvert_exporter": "python",
   "pygments_lexer": "ipython3",
   "version": "3.9.2"
  }
 },
 "nbformat": 4,
 "nbformat_minor": 5
}