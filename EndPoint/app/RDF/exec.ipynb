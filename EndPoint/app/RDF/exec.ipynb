{
 "metadata": {
  "language_info": {
   "codemirror_mode": {
    "name": "ipython",
    "version": 3
   },
   "file_extension": ".py",
   "mimetype": "text/x-python",
   "name": "python",
   "nbconvert_exporter": "python",
   "pygments_lexer": "ipython3",
   "version": "3.9.2"
  },
  "orig_nbformat": 4,
  "kernelspec": {
   "name": "python392jvsc74a57bd048c6f5cef3b522b8ab76cda2d1d15147163abf5804e89b50769ec9907b8589f7",
   "display_name": "Python 3.9.2 64-bit ('venv': venv)",
   "language": "python"
  }
 },
 "nbformat": 4,
 "nbformat_minor": 2,
 "cells": [
  {
   "cell_type": "code",
   "execution_count": 1,
   "metadata": {},
   "outputs": [],
   "source": [
    "from funciones import *\n",
    "import json"
   ]
  },
  {
   "cell_type": "code",
   "execution_count": 2,
   "metadata": {
    "tags": []
   },
   "outputs": [],
   "source": [
    "results = getTematicas()"
   ]
  },
  {
   "cell_type": "code",
   "execution_count": 3,
   "metadata": {
    "tags": []
   },
   "outputs": [
    {
     "output_type": "stream",
     "name": "stdout",
     "text": [
      "[\n    {\n        \"name\": {\n            \"type\": \"literal\",\n            \"value\": \"ciencia-tecnologia\"\n        },\n        \"url\": {\n            \"type\": \"uri\",\n            \"value\": \"http://datos.gob.es/kos/sector-publico/sector/ciencia-tecnologia\"\n        }\n    },\n    {\n        \"name\": {\n            \"type\": \"literal\",\n            \"value\": \"comercio\"\n        },\n        \"url\": {\n            \"type\": \"uri\",\n            \"value\": \"http://datos.gob.es/kos/sector-publico/sector/comercio\"\n        }\n    },\n    {\n        \"name\": {\n            \"type\": \"literal\",\n            \"value\": \"cultura-ocio\"\n        },\n        \"url\": {\n            \"type\": \"uri\",\n            \"value\": \"http://datos.gob.es/kos/sector-publico/sector/cultura-ocio\"\n        }\n    },\n    {\n        \"name\": {\n            \"type\": \"literal\",\n            \"value\": \"demografia\"\n        },\n        \"url\": {\n            \"type\": \"uri\",\n            \"value\": \"http://datos.gob.es/kos/sector-publico/sector/demografia\"\n        }\n    },\n    {\n        \"name\": {\n            \"type\": \"literal\",\n            \"value\": \"deporte\"\n        },\n        \"url\": {\n            \"type\": \"uri\",\n            \"value\": \"http://datos.gob.es/kos/sector-publico/sector/deporte\"\n        }\n    },\n    {\n        \"name\": {\n            \"type\": \"literal\",\n            \"value\": \"economia\"\n        },\n        \"url\": {\n            \"type\": \"uri\",\n            \"value\": \"http://datos.gob.es/kos/sector-publico/sector/economia\"\n        }\n    },\n    {\n        \"name\": {\n            \"type\": \"literal\",\n            \"value\": \"educacion\"\n        },\n        \"url\": {\n            \"type\": \"uri\",\n            \"value\": \"http://datos.gob.es/kos/sector-publico/sector/educacion\"\n        }\n    },\n    {\n        \"name\": {\n            \"type\": \"literal\",\n            \"value\": \"empleo\"\n        },\n        \"url\": {\n            \"type\": \"uri\",\n            \"value\": \"http://datos.gob.es/kos/sector-publico/sector/empleo\"\n        }\n    },\n    {\n        \"name\": {\n            \"type\": \"literal\",\n            \"value\": \"energia\"\n        },\n        \"url\": {\n            \"type\": \"uri\",\n            \"value\": \"http://datos.gob.es/kos/sector-publico/sector/energia\"\n        }\n    },\n    {\n        \"name\": {\n            \"type\": \"literal\",\n            \"value\": \"hacienda\"\n        },\n        \"url\": {\n            \"type\": \"uri\",\n            \"value\": \"http://datos.gob.es/kos/sector-publico/sector/hacienda\"\n        }\n    },\n    {\n        \"name\": {\n            \"type\": \"literal\",\n            \"value\": \"industria\"\n        },\n        \"url\": {\n            \"type\": \"uri\",\n            \"value\": \"http://datos.gob.es/kos/sector-publico/sector/industria\"\n        }\n    },\n    {\n        \"name\": {\n            \"type\": \"literal\",\n            \"value\": \"legislacion-justicia\"\n        },\n        \"url\": {\n            \"type\": \"uri\",\n            \"value\": \"http://datos.gob.es/kos/sector-publico/sector/legislacion-justicia\"\n        }\n    },\n    {\n        \"name\": {\n            \"type\": \"literal\",\n            \"value\": \"medio-ambiente\"\n        },\n        \"url\": {\n            \"type\": \"uri\",\n            \"value\": \"http://datos.gob.es/kos/sector-publico/sector/medio-ambiente\"\n        }\n    },\n    {\n        \"name\": {\n            \"type\": \"literal\",\n            \"value\": \"medio-rural-pesca\"\n        },\n        \"url\": {\n            \"type\": \"uri\",\n            \"value\": \"http://datos.gob.es/kos/sector-publico/sector/medio-rural-pesca\"\n        }\n    },\n    {\n        \"name\": {\n            \"type\": \"literal\",\n            \"value\": \"salud\"\n        },\n        \"url\": {\n            \"type\": \"uri\",\n            \"value\": \"http://datos.gob.es/kos/sector-publico/sector/salud\"\n        }\n    },\n    {\n        \"name\": {\n            \"type\": \"literal\",\n            \"value\": \"sector-publico\"\n        },\n        \"url\": {\n            \"type\": \"uri\",\n            \"value\": \"http://datos.gob.es/kos/sector-publico/sector/sector-publico\"\n        }\n    },\n    {\n        \"name\": {\n            \"type\": \"literal\",\n            \"value\": \"seguridad\"\n        },\n        \"url\": {\n            \"type\": \"uri\",\n            \"value\": \"http://datos.gob.es/kos/sector-publico/sector/seguridad\"\n        }\n    },\n    {\n        \"name\": {\n            \"type\": \"literal\",\n            \"value\": \"sociedad-bienestar\"\n        },\n        \"url\": {\n            \"type\": \"uri\",\n            \"value\": \"http://datos.gob.es/kos/sector-publico/sector/sociedad-bienestar\"\n        }\n    },\n    {\n        \"name\": {\n            \"type\": \"literal\",\n            \"value\": \"transporte\"\n        },\n        \"url\": {\n            \"type\": \"uri\",\n            \"value\": \"http://datos.gob.es/kos/sector-publico/sector/transporte\"\n        }\n    },\n    {\n        \"name\": {\n            \"type\": \"literal\",\n            \"value\": \"turismo\"\n        },\n        \"url\": {\n            \"type\": \"uri\",\n            \"value\": \"http://datos.gob.es/kos/sector-publico/sector/turismo\"\n        }\n    },\n    {\n        \"name\": {\n            \"type\": \"literal\",\n            \"value\": \"urbanismo-infraestructuras\"\n        },\n        \"url\": {\n            \"type\": \"uri\",\n            \"value\": \"http://datos.gob.es/kos/sector-publico/sector/urbanismo-infraestructuras\"\n        }\n    },\n    {\n        \"name\": {\n            \"type\": \"literal\",\n            \"value\": \"vivienda\"\n        },\n        \"url\": {\n            \"type\": \"uri\",\n            \"value\": \"http://datos.gob.es/kos/sector-publico/sector/vivienda\"\n        }\n    }\n]\n"
     ]
    }
   ],
   "source": [
    "print(json.dumps(results, indent=4, sort_keys=False))"
   ]
  },
  {
   "cell_type": "code",
   "execution_count": 5,
   "metadata": {},
   "outputs": [],
   "source": [
    "filtered = []\n",
    "for i in results:\n",
    "    filtered.append(\n",
    "        {\n",
    "            \"name\":i[\"name\"][\"value\"],\n",
    "            \"url\":i[\"url\"][\"value\"]\n",
    "        }\n",
    "    )\n"
   ]
  },
  {
   "cell_type": "code",
   "execution_count": null,
   "metadata": {},
   "outputs": [],
   "source": []
  }
 ]
}